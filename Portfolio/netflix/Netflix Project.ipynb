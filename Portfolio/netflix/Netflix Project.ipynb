{
 "cells": [
  {
   "cell_type": "markdown",
   "id": "8c0f4c5d",
   "metadata": {},
   "source": [
    "# Netflix Popularity Analysis\n",
    "\n",
    "*  Popularity of Flim by Genre (SQL)\n",
    "*  Popularity of Flim by Countries (SQL) \n",
    "*  Pupluar Directors on the Netflix (SQL)\n",
    "*  Demonstration of Relationship between Runtime and Imbd score (Python)\n"
   ]
  },
  {
   "cell_type": "markdown",
   "id": "02d4385b",
   "metadata": {},
   "source": [
    "### Popularity of Flim by Genre"
   ]
  },
  {
   "cell_type": "markdown",
   "id": "1b7a6469",
   "metadata": {},
   "source": [
    "* MY SQL Query \n",
    "\n",
    "with cte12 as (select sum(imdb_votes) popular_genre\n",
    "from titles  \n",
    "where genres like '%action%' \n",
    "union all  \n",
    "select sum(imdb_votes) popular_genre\n",
    "from titles  \n",
    "where genres like '%drama%' \n",
    "union all  \n",
    "select sum(imdb_votes) popular_genre\n",
    "from titles  \n",
    "where genres like '%animation%' \n",
    "union all  \n",
    "select sum(imdb_votes) popular_genre\n",
    "from titles  \n",
    "where genres like '%comedy%' \n",
    "union all  \n",
    "select sum(imdb_votes) popular_genre\n",
    "from titles  \n",
    "where genres like '%crime%' \n",
    "union all  \n",
    "select sum(imdb_votes) popular_genre\n",
    "from titles  \n",
    "where genres like '%documentation%' \n",
    "union all \n",
    "select sum(imdb_votes) popular_genre\n",
    "from titles  \n",
    "where genres like '%european%' \n",
    "union all \n",
    "select sum(imdb_votes) popular_genre\n",
    "from titles  \n",
    "where genres like '%family%' \n",
    "union all  \n",
    "select sum(imdb_votes) popular_genre\n",
    "from titles  \n",
    "where genres like '%fantasy%' \n",
    "union all \n",
    "select sum(imdb_votes) popular_genre\n",
    "from titles  \n",
    "where genres like '%horror%' \n",
    "union all  \n",
    "select sum(imdb_votes) popular_genre\n",
    "from titles  \n",
    "where genres like '%music%' \n",
    "union all  \n",
    "select sum(imdb_votes) popular_genre\n",
    "from titles  \n",
    "where genres like '%romance%' \n",
    "union all \n",
    "select sum(imdb_votes) popular_genre\n",
    "from titles  \n",
    "where genres like '%scifi%' \n",
    "union all \n",
    "select sum(imdb_votes) popular_genre\n",
    "from titles  \n",
    "where genres like '%sport%' \n",
    "union all \n",
    "select sum(imdb_votes) popular_genre\n",
    "from titles  \n",
    "where genres like '%thriller%' \n",
    "union all \n",
    "select sum(imdb_votes) popular_genre\n",
    "from titles  \n",
    "where genres like '%war%' \n",
    "union all \n",
    "select sum(imdb_votes) popular_genre\n",
    "from titles  \n",
    "where genres like '%western%')\n",
    "select *, \n",
    "case when popular_genre = 45006009 then 'action' \n",
    "when popular_genre = 89220112 then 'drama' \n",
    "when popular_genre = 7531430 then 'animation' \n",
    "when popular_genre = 35363513 then 'comedy' \n",
    "when popular_genre = 38791635 then 'crime' \n",
    "when popular_genre = 4372279 then 'documentation' \n",
    "when popular_genre = 15001328 then 'european' \n",
    "when popular_genre = 7041502 then 'family' \n",
    "when popular_genre = 19425742 then 'fantasy' \n",
    "when popular_genre = 15579687 then 'horror' \n",
    "when popular_genre = 4011251 then 'music' \n",
    "when popular_genre = 18770789 then 'rommance' \n",
    "when popular_genre = 26063008 then 'Scifi' \n",
    "when popular_genre = 3473177 then 'Sport' \n",
    "when popular_genre = 58903190 then 'thriller' \n",
    "when popular_genre = 6952723 then 'war' \n",
    "when popular_genre = 3532478 then 'western' \n",
    "end as genre \n",
    "from cte12 \n",
    "order by popular_genre desc;"
   ]
  },
  {
   "cell_type": "markdown",
   "id": "ddd81249",
   "metadata": {},
   "source": [
    "### Popularity of Flim by countries "
   ]
  },
  {
   "cell_type": "markdown",
   "id": "5e596b99",
   "metadata": {},
   "source": [
    "* MY SQL Query\n",
    "\n",
    "with cte1 as (select substr(production_countries, 3,2) country1, genres, imdb_score, imdb_votes \n",
    "              from titles \n",
    "\t\t\t  union all  \n",
    "\t\t\t  select substr(production_countries, 9,2) country2, genres, imdb_score, imdb_votes \n",
    "\t\t\t  from titles \n",
    "\t\t\t  union all  \n",
    "\t\t\t  select substr(production_countries, 15,2) country3, genres, imdb_score, imdb_votes \n",
    "              from titles \n",
    "\t\t\t  union all  \n",
    "\t\t\t  select substr(production_countries, 21,2) country4, genres, imdb_score, imdb_votes \n",
    "\t\t\t  from titles \n",
    "\t\t\t  union all  \n",
    "\t\t\t  select substr(production_countries, 27,2) country5, genres, imdb_score, imdb_votes \n",
    "\t\t\t  from titles \n",
    "\t\t\t  union all  \n",
    "\t\t\t  select substr(production_countries, 33,2) country6, genres, imdb_score, imdb_votes \n",
    "\t\t\t  from titles) \n",
    "select country1, sum(imdb_votes)\n",
    "from cte1 \n",
    "where country1 != '' \n",
    "group by country1\n",
    "order by 2 desc;"
   ]
  },
  {
   "cell_type": "markdown",
   "id": "bf34d84d",
   "metadata": {},
   "source": [
    "### Pupluar Directors on the Netflix"
   ]
  },
  {
   "cell_type": "markdown",
   "id": "1fb4db5f",
   "metadata": {},
   "source": [
    "* My SQL Query\n",
    "\n",
    "select name, sum(imdb_votes)\n",
    "from titles t\n",
    "inner join credits c\n",
    "on t.id = c.id\n",
    "where role = 'director'\n",
    "group by name\n",
    "order by sum(imdb_votes) desc;"
   ]
  },
  {
   "cell_type": "markdown",
   "id": "e733df45",
   "metadata": {},
   "source": [
    "### Demonstration of Relationship between Runtime and Imbd score"
   ]
  },
  {
   "cell_type": "code",
   "execution_count": 5,
   "id": "79404180",
   "metadata": {},
   "outputs": [
    {
     "data": {
      "text/html": [
       "<div>\n",
       "<style scoped>\n",
       "    .dataframe tbody tr th:only-of-type {\n",
       "        vertical-align: middle;\n",
       "    }\n",
       "\n",
       "    .dataframe tbody tr th {\n",
       "        vertical-align: top;\n",
       "    }\n",
       "\n",
       "    .dataframe thead th {\n",
       "        text-align: right;\n",
       "    }\n",
       "</style>\n",
       "<table border=\"1\" class=\"dataframe\">\n",
       "  <thead>\n",
       "    <tr style=\"text-align: right;\">\n",
       "      <th></th>\n",
       "      <th>runtime</th>\n",
       "      <th>imdb_score</th>\n",
       "      <th>imdb_votes</th>\n",
       "    </tr>\n",
       "  </thead>\n",
       "  <tbody>\n",
       "    <tr>\n",
       "      <th>0</th>\n",
       "      <td>69</td>\n",
       "      <td>5.4</td>\n",
       "      <td>154</td>\n",
       "    </tr>\n",
       "    <tr>\n",
       "      <th>1</th>\n",
       "      <td>23</td>\n",
       "      <td>6.7</td>\n",
       "      <td>154</td>\n",
       "    </tr>\n",
       "    <tr>\n",
       "      <th>2</th>\n",
       "      <td>46</td>\n",
       "      <td>5.1</td>\n",
       "      <td>155</td>\n",
       "    </tr>\n",
       "    <tr>\n",
       "      <th>3</th>\n",
       "      <td>63</td>\n",
       "      <td>5.7</td>\n",
       "      <td>155</td>\n",
       "    </tr>\n",
       "    <tr>\n",
       "      <th>4</th>\n",
       "      <td>47</td>\n",
       "      <td>6.8</td>\n",
       "      <td>156</td>\n",
       "    </tr>\n",
       "    <tr>\n",
       "      <th>...</th>\n",
       "      <td>...</td>\n",
       "      <td>...</td>\n",
       "      <td>...</td>\n",
       "    </tr>\n",
       "    <tr>\n",
       "      <th>995</th>\n",
       "      <td>139</td>\n",
       "      <td>3.9</td>\n",
       "      <td>748</td>\n",
       "    </tr>\n",
       "    <tr>\n",
       "      <th>996</th>\n",
       "      <td>94</td>\n",
       "      <td>5.3</td>\n",
       "      <td>748</td>\n",
       "    </tr>\n",
       "    <tr>\n",
       "      <th>997</th>\n",
       "      <td>29</td>\n",
       "      <td>7.0</td>\n",
       "      <td>749</td>\n",
       "    </tr>\n",
       "    <tr>\n",
       "      <th>998</th>\n",
       "      <td>0</td>\n",
       "      <td>6.1</td>\n",
       "      <td>750</td>\n",
       "    </tr>\n",
       "    <tr>\n",
       "      <th>999</th>\n",
       "      <td>90</td>\n",
       "      <td>7.7</td>\n",
       "      <td>750</td>\n",
       "    </tr>\n",
       "  </tbody>\n",
       "</table>\n",
       "<p>1000 rows × 3 columns</p>\n",
       "</div>"
      ],
      "text/plain": [
       "     runtime  imdb_score  imdb_votes\n",
       "0         69         5.4         154\n",
       "1         23         6.7         154\n",
       "2         46         5.1         155\n",
       "3         63         5.7         155\n",
       "4         47         6.8         156\n",
       "..       ...         ...         ...\n",
       "995      139         3.9         748\n",
       "996       94         5.3         748\n",
       "997       29         7.0         749\n",
       "998        0         6.1         750\n",
       "999       90         7.7         750\n",
       "\n",
       "[1000 rows x 3 columns]"
      ]
     },
     "execution_count": 5,
     "metadata": {},
     "output_type": "execute_result"
    }
   ],
   "source": [
    "import pandas as pd\n",
    "import numpy as np\n",
    "import statsmodels.api as sm\n",
    "import seaborn as sns\n",
    "import matplotlib.pyplot as plt\n",
    "from scipy.stats import spearmanr\n",
    "\n",
    "\n",
    "runtime = pd.read_csv('runtime.csv')\n",
    "\n",
    "runtime"
   ]
  },
  {
   "cell_type": "markdown",
   "id": "2baa04fe",
   "metadata": {},
   "source": [
    "#### how runtime affects to imdb score & popularity ? \n",
    "#### before I demonstrated the relationship, I checked three following things \n",
    "\n",
    "* runtime and imdb score & popularity are linear relationship ? \n",
    "* Are there outliers ?\n",
    "* the runtime data is normal distribution ? "
   ]
  },
  {
   "cell_type": "code",
   "execution_count": 6,
   "id": "ba750f50",
   "metadata": {},
   "outputs": [
    {
     "data": {
      "text/plain": [
       "<matplotlib.collections.PathCollection at 0x209a575cb80>"
      ]
     },
     "execution_count": 6,
     "metadata": {},
     "output_type": "execute_result"
    },
    {
     "data": {
      "image/png": "[encoded data removed]",
      "text/plain": [
       "<Figure size 432x288 with 1 Axes>"
      ]
     },
     "metadata": {
      "needs_background": "light"
     },
     "output_type": "display_data"
    }
   ],
   "source": [
    "# x and y are linear? & outliar? \n",
    "\n",
    "x = runtime['runtime']\n",
    "y = runtime['imdb_score']\n",
    "z = runtime['imdb_votes']\n",
    "\n",
    "plt.scatter(x, y, c =\"blue\") # relationship between runtime and imdb score\n"
   ]
  },
  {
   "cell_type": "code",
   "execution_count": 7,
   "id": "91aa9213",
   "metadata": {},
   "outputs": [
    {
     "data": {
      "text/plain": [
       "<matplotlib.collections.PathCollection at 0x209aa62e370>"
      ]
     },
     "execution_count": 7,
     "metadata": {},
     "output_type": "execute_result"
    },
    {
     "data": {
      "image/png": "[encoded data removed]",
      "text/plain": [
       "<Figure size 432x288 with 1 Axes>"
      ]
     },
     "metadata": {
      "needs_background": "light"
     },
     "output_type": "display_data"
    }
   ],
   "source": [
    "plt.scatter(z, y, c =\"red\") #relationship between runtime and imdb score"
   ]
  },
  {
   "cell_type": "code",
   "execution_count": 8,
   "id": "46c78588",
   "metadata": {},
   "outputs": [
    {
     "name": "stderr",
     "output_type": "stream",
     "text": [
      "C:\\Users\\junhy\\anaconda3\\lib\\site-packages\\statsmodels\\graphics\\gofplots.py:993: UserWarning: marker is redundantly defined by the 'marker' keyword argument and the fmt string \"bo\" (-> marker='o'). The keyword argument will take precedence.\n",
      "  ax.plot(x, y, fmt, **plot_style)\n"
     ]
    },
    {
     "data": {
      "image/png": "[encoded data removed]",
      "text/plain": [
       "<Figure size 432x288 with 1 Axes>"
      ]
     },
     "execution_count": 8,
     "metadata": {},
     "output_type": "execute_result"
    },
    {
     "data": {
      "image/png": "[encoded data removed]",
      "text/plain": [
       "<Figure size 432x288 with 1 Axes>"
      ]
     },
     "metadata": {
      "needs_background": "light"
     },
     "output_type": "display_data"
    }
   ],
   "source": [
    "# runtime data is normal distribution ? \n",
    "\n",
    "sm.qqplot(runtime[\"runtime\"], line=\"45\") # the runtime data is not normal distribution because it doesn't lies on line 45"
   ]
  },
  {
   "cell_type": "markdown",
   "id": "f27a27c2",
   "metadata": {},
   "source": [
    "#### Therefore I have to use spearman's rank correlation coefficient, instead of pearson correlation coefficient"
   ]
  },
  {
   "cell_type": "code",
   "execution_count": 21,
   "id": "166ada9f",
   "metadata": {},
   "outputs": [
    {
     "data": {
      "text/plain": [
       "SpearmanrResult(correlation=-0.15567380501185143, pvalue=7.541667460895122e-07)"
      ]
     },
     "execution_count": 21,
     "metadata": {},
     "output_type": "execute_result"
    }
   ],
   "source": [
    "spearmanr(runtime['runtime'], runtime['imdb_score'])"
   ]
  },
  {
   "cell_type": "code",
   "execution_count": 27,
   "id": "e68b48f0",
   "metadata": {},
   "outputs": [
    {
     "data": {
      "text/plain": [
       "SpearmanrResult(correlation=-0.050383570212449304, pvalue=0.11132023397292067)"
      ]
     },
     "execution_count": 27,
     "metadata": {},
     "output_type": "execute_result"
    }
   ],
   "source": [
    "spearmanr(runtime['runtime'], runtime['imdb_votes'])"
   ]
  },
  {
   "cell_type": "markdown",
   "id": "5ebf754d",
   "metadata": {},
   "source": [
    "# Relationship between runtime and imdb score \n",
    "\n",
    "## p value is less than 0.05, the correlation is statiscally significant. However, the correlation is -0.156, which is very weak relationship."
   ]
  },
  {
   "cell_type": "markdown",
   "id": "3fe756d7",
   "metadata": {},
   "source": [
    "# Relationship between runtime and popularity\n",
    "\n",
    "## p value is higher than 0.05, the correlation is not statiscally significant. Therefore, there is no relationship between them "
   ]
  }
 ],
 "metadata": {
  "kernelspec": {
   "display_name": "Python 3 (ipykernel)",
   "language": "python",
   "name": "python3"
  },
  "language_info": {
   "codemirror_mode": {
    "name": "ipython",
    "version": 3
   },
   "file_extension": ".py",
   "mimetype": "text/x-python",
   "name": "python",
   "nbconvert_exporter": "python",
   "pygments_lexer": "ipython3",
   "version": "3.9.7"
  }
 },
 "nbformat": 4,
 "nbformat_minor": 5
}
