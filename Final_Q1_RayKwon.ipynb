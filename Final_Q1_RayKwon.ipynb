{
 "cells": [
  {
   "cell_type": "code",
   "execution_count": 1,
   "id": "11bfe6a3",
   "metadata": {},
   "outputs": [],
   "source": [
    "def sol1(x):\n",
    "    try:\n",
    "        ans = []\n",
    "\n",
    "        while x != 'done':\n",
    "            ans.append(float(x))\n",
    "            x = input('Please enter a new number. Enter done to end. ' )\n",
    "            ans.sort()\n",
    "        print(len(ans),' numbers were entered')\n",
    "        print('The numbers in an ascending order are: ', ans)\n",
    "    except ValueError as ve:\n",
    "        print('Invalid Argument!', ve)\n",
    "  \n",
    "        \n",
    "        \n",
    "        \n",
    "    \n",
    "        "
   ]
  },
  {
   "cell_type": "code",
   "execution_count": 2,
   "id": "48f9af0b",
   "metadata": {},
   "outputs": [
    {
     "name": "stdout",
     "output_type": "stream",
     "text": [
      "Please enter a new number. Enter done to end. 3\n",
      "Please enter a new number. Enter done to end. 4\n",
      "Please enter a new number. Enter done to end. 5\n",
      "Please enter a new number. Enter done to end. 5\n",
      "Please enter a new number. Enter done to end. 7\n",
      "Please enter a new number. Enter done to end. done\n",
      "5  numbers were entered\n",
      "The numbers in an ascending order are:  [3.0, 4.0, 5.0, 5.0, 7.0]\n"
     ]
    }
   ],
   "source": [
    "sol1(input('Please enter a new number. Enter done to end. ' ))"
   ]
  }
 ],
 "metadata": {
  "kernelspec": {
   "display_name": "Python 3 (ipykernel)",
   "language": "python",
   "name": "python3"
  },
  "language_info": {
   "codemirror_mode": {
    "name": "ipython",
    "version": 3
   },
   "file_extension": ".py",
   "mimetype": "text/x-python",
   "name": "python",
   "nbconvert_exporter": "python",
   "pygments_lexer": "ipython3",
   "version": "3.9.7"
  }
 },
 "nbformat": 4,
 "nbformat_minor": 5
}
